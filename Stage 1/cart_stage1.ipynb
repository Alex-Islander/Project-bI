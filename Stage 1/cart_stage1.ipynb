{
 "metadata": {
  "language_info": {
   "codemirror_mode": {
    "name": "ipython",
    "version": 3
   },
   "file_extension": ".py",
   "mimetype": "text/x-python",
   "name": "python",
   "nbconvert_exporter": "python",
   "pygments_lexer": "ipython3",
   "version": "3.7.7-final"
  },
  "orig_nbformat": 2,
  "kernelspec": {
   "name": "python3",
   "display_name": "Python 3"
  }
 },
 "nbformat": 4,
 "nbformat_minor": 2,
 "cells": [
  {
   "source": [
    "## Imports"
   ],
   "cell_type": "markdown",
   "metadata": {}
  },
  {
   "cell_type": "code",
   "execution_count": 20,
   "metadata": {},
   "outputs": [],
   "source": [
    "import numpy as np\n",
    "import unittest\n",
    "from time import time"
   ]
  },
  {
   "source": [
    "# Working with map\n",
    "*Owner*: TBD"
   ],
   "cell_type": "markdown",
   "metadata": {}
  },
  {
   "cell_type": "code",
   "execution_count": 19,
   "metadata": {},
   "outputs": [],
   "source": [
    "def load_plan(file:str) -> np.array:\n",
    "    \"\"\"\n",
    "    Read plan *file* in 'jpg' format and returns plan array.\n",
    "    \"\"\"\n",
    "    assert False, \"Function is not implemented\"\n",
    "    return plan\n",
    "\n",
    "\n",
    "def save_plan(plan:np.array, file:str):\n",
    "    \"\"\"\n",
    "    Saves plan to file.\n",
    "    \"\"\"\n",
    "    assert False, \"Function is not implemented\"\n",
    "\n",
    "\n",
    "def generate_plan(size:(int, int), **kwargs) -> np.array:\n",
    "    \"\"\"\n",
    "    Generates plan of required size. May use some arguments (e.g. number of rooms).\n",
    "    Returns plan.\n",
    "    \"\"\"\n",
    "    assert False, \"Function is not implemented\"\n",
    "    return plan"
   ]
  },
  {
   "source": [
    "# Main classes\n",
    "## Cart\n",
    "*Owner*: TBD"
   ],
   "cell_type": "markdown",
   "metadata": {}
  },
  {
   "cell_type": "code",
   "execution_count": 15,
   "metadata": {},
   "outputs": [],
   "source": [
    "class Cart():\n",
    "    def __init__():\n",
    "        position = [0, 0]\n",
    "        direction = 0\n",
    "\n",
    "    def forward(self, step=1):\n",
    "        \"\"\"\n",
    "        Drives cart forward for number of steps at current cart direciton.\n",
    "        Changes cart position. \n",
    "        \"\"\"\n",
    "        assert False, \"Function is not implemented\"\n",
    "\n",
    "    def reverse(self, step=1):\n",
    "        \"\"\"\n",
    "        Drives cart backward for number of steps at current cart direciton.\n",
    "        Changes cart position.\n",
    "        \"\"\"\n",
    "        assert False, \"Function is not implemented\"\n",
    "\n",
    "    def turn(self, degree):\n",
    "        \"\"\"\n",
    "        Turns cart to certain angle.\n",
    "        Changes cart direction. \n",
    "        \"\"\"\n",
    "        assert False, \"Function is not implemented\"\n"
   ]
  },
  {
   "source": [
    "## Sensor \n",
    "*Owner*: TBD"
   ],
   "cell_type": "markdown",
   "metadata": {}
  },
  {
   "cell_type": "code",
   "execution_count": 18,
   "metadata": {},
   "outputs": [],
   "source": [
    "class Sensor():\n",
    "    def __init__():\n",
    "        direction = 0\n",
    "\n",
    "    def get_distance(self) -> int:\n",
    "        \"\"\"\n",
    "        Checks distance to next obstacle if there is one.\n",
    "        Returns distance if sensor can see obstacle, or np.inf if there is no obstacle. \n",
    "        \"\"\"\n",
    "        assert False, \"Function is not implemented\"\n",
    "        return distance"
   ]
  },
  {
   "source": [
    "## Driver\n",
    "*Owner*: TBD"
   ],
   "cell_type": "markdown",
   "metadata": {}
  },
  {
   "cell_type": "code",
   "execution_count": null,
   "metadata": {},
   "outputs": [],
   "source": [
    "class Driver():\n",
    "    def __init__(cart:Cart, sensors:list[Sensor]):\n",
    "        sensors = sensors\n",
    "        cart = cart\n",
    "\n",
    "    def check_obstacls(self):\n",
    "        \"\"\"\n",
    "        Checks where nearest obstacles are located.\n",
    "        \"\"\"\n",
    "        assert False, \"Function is not implemented\"\n",
    "\n",
    "    def drive_to_wall(self):\n",
    "        \"\"\"\n",
    "        Drives cart until hits wall in front of it. \n",
    "        \"\"\"\n",
    "        assert False, \"Function is not implemented\"\n",
    "\n",
    "    def turn(self, direction):\n",
    "        \"\"\"\n",
    "        Turns cart to given direction.\n",
    "        \"\"\"\n",
    "        assert False, \"Function is not implemented\"\n",
    "\n",
    "\n",
    "    def crazy_drive(self, timer:int):\n",
    "        \"\"\"\n",
    "        Drives around the room randomly for given time. \n",
    "        \"\"\"\n",
    "        end_time = time() + timer\n",
    "        while end_time < time():\n",
    "            self.drive_to_wall()\n",
    "            self.turn(np.random.randint(1, 359))\n",
    "            "
   ]
  },
  {
   "source": [
    "# Tests\n",
    "*Owner*: TBD"
   ],
   "cell_type": "markdown",
   "metadata": {}
  },
  {
   "source": [
    "## Help functions"
   ],
   "cell_type": "markdown",
   "metadata": {}
  },
  {
   "cell_type": "code",
   "execution_count": 13,
   "metadata": {},
   "outputs": [],
   "source": [
    "def place_cart(plan) -> [int, int]: \n",
    "    \"\"\"\n",
    "    Randomly places agent on map/plan at valid point. \n",
    "    Returns coordinates. \n",
    "    \"\"\"\n",
    "    assert False, \"Function is not implemented\"\n",
    "    return coordinates"
   ]
  },
  {
   "source": [
    "## Tests"
   ],
   "cell_type": "markdown",
   "metadata": {}
  },
  {
   "cell_type": "code",
   "execution_count": null,
   "metadata": {},
   "outputs": [],
   "source": []
  },
  {
   "source": [
    "## Sandbox\n",
    "Use for whatever need you have."
   ],
   "cell_type": "markdown",
   "metadata": {}
  },
  {
   "cell_type": "code",
   "execution_count": null,
   "metadata": {},
   "outputs": [],
   "source": []
  }
 ]
}