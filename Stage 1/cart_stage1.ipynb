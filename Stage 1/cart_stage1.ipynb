{
 "metadata": {
  "language_info": {
   "codemirror_mode": {
    "name": "ipython",
    "version": 3
   },
   "file_extension": ".py",
   "mimetype": "text/x-python",
   "name": "python",
   "nbconvert_exporter": "python",
   "pygments_lexer": "ipython3",
   "version": "3.7.7-final"
  },
  "orig_nbformat": 2,
  "kernelspec": {
   "name": "python3",
   "display_name": "Python 3"
  }
 },
 "nbformat": 4,
 "nbformat_minor": 2,
 "cells": [
  {
   "source": [
    "## Imports"
   ],
   "cell_type": "markdown",
   "metadata": {}
  },
  {
   "cell_type": "code",
   "execution_count": 1,
   "metadata": {},
   "outputs": [],
   "source": [
    "import numpy as np\n",
    "import unittest\n",
    "from time import time"
   ]
  },
  {
   "source": [
    "# Working with map\n",
    "*Owner*: TBD"
   ],
   "cell_type": "markdown",
   "metadata": {}
  },
  {
   "source": [
    "## Load/save/gen"
   ],
   "cell_type": "markdown",
   "metadata": {}
  },
  {
   "cell_type": "code",
   "execution_count": 2,
   "metadata": {},
   "outputs": [],
   "source": [
    "def load_plan(file:str) -> np.array:\n",
    "    \"\"\"\n",
    "    Read plan *file* in 'jpg' format and returns plan array.\n",
    "    \"\"\"\n",
    "    assert False, \"Function is not implemented\"\n",
    "    return plan\n",
    "\n",
    "\n",
    "def save_plan(plan:np.array, file:str):\n",
    "    \"\"\"\n",
    "    Saves plan to file.\n",
    "    \"\"\"\n",
    "    assert False, \"Function is not implemented\"\n",
    "\n",
    "\n",
    "def generate_plan(size:(int, int), **kwargs) -> np.array:\n",
    "    \"\"\"\n",
    "    Generates plan of required size. May use some arguments (e.g. number of rooms).\n",
    "    Returns plan.\n",
    "    \"\"\"\n",
    "    assert False, \"Function is not implemented\"\n",
    "    return plan"
   ]
  },
  {
   "source": [
    "## Display"
   ],
   "cell_type": "markdown",
   "metadata": {}
  },
  {
   "cell_type": "code",
   "execution_count": 3,
   "metadata": {},
   "outputs": [],
   "source": [
    "def show_plan(plan:np.array):\n",
    "    \"\"\"\n",
    "    Shows plan in window until any button is hit.\n",
    "    \"\"\"\n",
    "    assert False, \"Function is not implemented\"\n",
    "\n",
    "\n",
    "def show_layers(*layers):\n",
    "    \"\"\"\n",
    "    Takes *layers* (list of np.arrays) and shows them together until any button is hit.\n",
    "    \"\"\"\n",
    "    assert False, \"Function is not implemented\"\n"
   ]
  },
  {
   "source": [
    "# Main classes\n",
    "## Cart\n",
    "*Owner*: TBD"
   ],
   "cell_type": "markdown",
   "metadata": {}
  },
  {
   "cell_type": "code",
   "execution_count": 4,
   "metadata": {},
   "outputs": [],
   "source": [
    "class Cart():\n",
    "    def __init__(self):\n",
    "        position = [0, 0]\n",
    "        direction = 0\n",
    "\n",
    "    def forward(self, step=1):\n",
    "        \"\"\"\n",
    "        Drives cart forward for number of steps at current cart direciton.\n",
    "        Changes cart position. \n",
    "        \"\"\"\n",
    "        assert False, \"Function is not implemented\"\n",
    "\n",
    "    def reverse(self, step=1):\n",
    "        \"\"\"\n",
    "        Drives cart backward for number of steps at current cart direciton.\n",
    "        Changes cart position.\n",
    "        \"\"\"\n",
    "        assert False, \"Function is not implemented\"\n",
    "\n",
    "    def turn(self, degree):\n",
    "        \"\"\"\n",
    "        Turns cart to certain angle.\n",
    "        Changes cart direction. \n",
    "        \"\"\"\n",
    "        assert False, \"Function is not implemented\"\n"
   ]
  },
  {
   "source": [
    "## Sensor \n",
    "*Owner*: TBD"
   ],
   "cell_type": "markdown",
   "metadata": {}
  },
  {
   "cell_type": "code",
   "execution_count": 5,
   "metadata": {},
   "outputs": [],
   "source": [
    "class Sensor():\n",
    "    def __init__(self):\n",
    "        direction = 0\n",
    "\n",
    "    def get_distance(self) -> int:\n",
    "        \"\"\"\n",
    "        Checks distance to next obstacle if there is one.\n",
    "        Returns distance if sensor can see obstacle, or np.inf if there is no obstacle. \n",
    "        \"\"\"\n",
    "        assert False, \"Function is not implemented\"\n",
    "        return distance"
   ]
  },
  {
   "source": [
    "## Driver\n",
    "*Owner*: TBD"
   ],
   "cell_type": "markdown",
   "metadata": {}
  },
  {
   "cell_type": "code",
   "execution_count": 6,
   "metadata": {},
   "outputs": [],
   "source": [
    "class Driver():\n",
    "    def __init__(self, cart:Cart, sensors:[Sensor]):\n",
    "        sensors = sensors\n",
    "        cart = cart\n",
    "\n",
    "    def check_obstacls(self):\n",
    "        \"\"\"\n",
    "        Checks where nearest obstacles are located.\n",
    "        \"\"\"\n",
    "        assert False, \"Function is not implemented\"\n",
    "\n",
    "    def drive_to_wall(self):\n",
    "        \"\"\"\n",
    "        Drives cart until hits wall in front of it. \n",
    "        \"\"\"\n",
    "        assert False, \"Function is not implemented\"\n",
    "\n",
    "    def turn(self, direction):\n",
    "        \"\"\"\n",
    "        Turns cart to given direction.\n",
    "        \"\"\"\n",
    "        assert False, \"Function is not implemented\"\n",
    "            "
   ]
  },
  {
   "source": [
    "# Navigation\n",
    "*Owner*: TBD"
   ],
   "cell_type": "markdown",
   "metadata": {}
  },
  {
   "cell_type": "code",
   "execution_count": 7,
   "metadata": {},
   "outputs": [],
   "source": [
    "def crazy_drive(driver:Driver, timer:int = 5):\n",
    "    \"\"\"\n",
    "    Drives around the room randomly for given time. \n",
    "    \"\"\"\n",
    "    end_time = time() + timer\n",
    "    while end_time > time():\n",
    "        driver.drive_to_wall()\n",
    "        driver.turn(np.random.randint(1, 359))\n",
    "\n"
   ]
  },
  {
   "source": [
    "# Tests\n",
    "*Owner*: TBD"
   ],
   "cell_type": "markdown",
   "metadata": {}
  },
  {
   "source": [
    "## Help functions"
   ],
   "cell_type": "markdown",
   "metadata": {}
  },
  {
   "cell_type": "code",
   "execution_count": 8,
   "metadata": {},
   "outputs": [],
   "source": [
    "def place_cart(plan) -> [int, int]: \n",
    "    \"\"\"\n",
    "    Randomly places agent on map/plan at valid point. \n",
    "    Returns coordinates. \n",
    "    \"\"\"\n",
    "    assert False, \"Function is not implemented\"\n",
    "    return coordinates"
   ]
  },
  {
   "source": [
    "## Tests"
   ],
   "cell_type": "markdown",
   "metadata": {}
  },
  {
   "cell_type": "code",
   "execution_count": null,
   "metadata": {},
   "outputs": [],
   "source": []
  },
  {
   "source": [
    "# Sandbox\n",
    "Use for whatever need you have."
   ],
   "cell_type": "markdown",
   "metadata": {}
  },
  {
   "cell_type": "code",
   "execution_count": 9,
   "metadata": {},
   "outputs": [
    {
     "output_type": "error",
     "ename": "AssertionError",
     "evalue": "Function is not implemented",
     "traceback": [
      "\u001b[1;31m---------------------------------------------------------------------------\u001b[0m",
      "\u001b[1;31mAssertionError\u001b[0m                            Traceback (most recent call last)",
      "\u001b[1;32m<ipython-input-9-65b7fa875b0c>\u001b[0m in \u001b[0;36m<module>\u001b[1;34m\u001b[0m\n\u001b[0;32m      3\u001b[0m \u001b[0mcrazy_driver\u001b[0m \u001b[1;33m=\u001b[0m \u001b[0mDriver\u001b[0m\u001b[1;33m(\u001b[0m\u001b[0msample_cart\u001b[0m\u001b[1;33m,\u001b[0m \u001b[1;33m[\u001b[0m\u001b[0msample_sensor\u001b[0m\u001b[1;33m]\u001b[0m\u001b[1;33m)\u001b[0m\u001b[1;33m\u001b[0m\u001b[1;33m\u001b[0m\u001b[0m\n\u001b[0;32m      4\u001b[0m \u001b[1;33m\u001b[0m\u001b[0m\n\u001b[1;32m----> 5\u001b[1;33m \u001b[0mcrazy_drive\u001b[0m\u001b[1;33m(\u001b[0m\u001b[0mcrazy_driver\u001b[0m\u001b[1;33m)\u001b[0m\u001b[1;33m\u001b[0m\u001b[1;33m\u001b[0m\u001b[0m\n\u001b[0m",
      "\u001b[1;32m<ipython-input-7-47dbf78d79a8>\u001b[0m in \u001b[0;36mcrazy_drive\u001b[1;34m(driver, timer)\u001b[0m\n\u001b[0;32m      5\u001b[0m     \u001b[0mend_time\u001b[0m \u001b[1;33m=\u001b[0m \u001b[0mtime\u001b[0m\u001b[1;33m(\u001b[0m\u001b[1;33m)\u001b[0m \u001b[1;33m+\u001b[0m \u001b[0mtimer\u001b[0m\u001b[1;33m\u001b[0m\u001b[1;33m\u001b[0m\u001b[0m\n\u001b[0;32m      6\u001b[0m     \u001b[1;32mwhile\u001b[0m \u001b[0mend_time\u001b[0m \u001b[1;33m>\u001b[0m \u001b[0mtime\u001b[0m\u001b[1;33m(\u001b[0m\u001b[1;33m)\u001b[0m\u001b[1;33m:\u001b[0m\u001b[1;33m\u001b[0m\u001b[1;33m\u001b[0m\u001b[0m\n\u001b[1;32m----> 7\u001b[1;33m         \u001b[0mdriver\u001b[0m\u001b[1;33m.\u001b[0m\u001b[0mdrive_to_wall\u001b[0m\u001b[1;33m(\u001b[0m\u001b[1;33m)\u001b[0m\u001b[1;33m\u001b[0m\u001b[1;33m\u001b[0m\u001b[0m\n\u001b[0m\u001b[0;32m      8\u001b[0m         \u001b[0mdriver\u001b[0m\u001b[1;33m.\u001b[0m\u001b[0mturn\u001b[0m\u001b[1;33m(\u001b[0m\u001b[0mnp\u001b[0m\u001b[1;33m.\u001b[0m\u001b[0mrandom\u001b[0m\u001b[1;33m.\u001b[0m\u001b[0mrandint\u001b[0m\u001b[1;33m(\u001b[0m\u001b[1;36m1\u001b[0m\u001b[1;33m,\u001b[0m \u001b[1;36m359\u001b[0m\u001b[1;33m)\u001b[0m\u001b[1;33m)\u001b[0m\u001b[1;33m\u001b[0m\u001b[1;33m\u001b[0m\u001b[0m\n\u001b[0;32m      9\u001b[0m \u001b[1;33m\u001b[0m\u001b[0m\n",
      "\u001b[1;32m<ipython-input-6-e79d3da1b819>\u001b[0m in \u001b[0;36mdrive_to_wall\u001b[1;34m(self)\u001b[0m\n\u001b[0;32m     14\u001b[0m         \u001b[0mDrives\u001b[0m \u001b[0mcart\u001b[0m \u001b[0muntil\u001b[0m \u001b[0mhits\u001b[0m \u001b[0mwall\u001b[0m \u001b[1;32min\u001b[0m \u001b[0mfront\u001b[0m \u001b[0mof\u001b[0m \u001b[0mit\u001b[0m\u001b[1;33m.\u001b[0m\u001b[1;33m\u001b[0m\u001b[1;33m\u001b[0m\u001b[0m\n\u001b[0;32m     15\u001b[0m         \"\"\"\n\u001b[1;32m---> 16\u001b[1;33m         \u001b[1;32massert\u001b[0m \u001b[1;32mFalse\u001b[0m\u001b[1;33m,\u001b[0m \u001b[1;34m\"Function is not implemented\"\u001b[0m\u001b[1;33m\u001b[0m\u001b[1;33m\u001b[0m\u001b[0m\n\u001b[0m\u001b[0;32m     17\u001b[0m \u001b[1;33m\u001b[0m\u001b[0m\n\u001b[0;32m     18\u001b[0m     \u001b[1;32mdef\u001b[0m \u001b[0mturn\u001b[0m\u001b[1;33m(\u001b[0m\u001b[0mself\u001b[0m\u001b[1;33m,\u001b[0m \u001b[0mdirection\u001b[0m\u001b[1;33m)\u001b[0m\u001b[1;33m:\u001b[0m\u001b[1;33m\u001b[0m\u001b[1;33m\u001b[0m\u001b[0m\n",
      "\u001b[1;31mAssertionError\u001b[0m: Function is not implemented"
     ]
    }
   ],
   "source": [
    "sample_cart = Cart()\n",
    "sample_sensor = Sensor()\n",
    "crazy_driver = Driver(sample_cart, [sample_sensor])\n",
    "\n",
    "crazy_drive(crazy_driver)"
   ]
  },
  {
   "cell_type": "code",
   "execution_count": null,
   "metadata": {},
   "outputs": [],
   "source": []
  }
 ]
}